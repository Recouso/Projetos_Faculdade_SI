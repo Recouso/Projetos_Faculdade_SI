{
  "nbformat": 4,
  "nbformat_minor": 0,
  "metadata": {
    "colab": {
      "name": "trabalho_probabilidade.ipynb",
      "provenance": [],
      "collapsed_sections": [
        "7dtVRVbSEhdr",
        "Bt8a3jWvEqCS",
        "O9aL1gWRpATh",
        "uQc8hPtjvJZP",
        "9SKJO4DWucgl",
        "S2zWeo6C5JiN",
        "seoyT2JxE7mm",
        "mXVRneQ-BxAl",
        "As_qjAnICFkU"
      ]
    },
    "kernelspec": {
      "name": "python3",
      "display_name": "Python 3"
    },
    "language_info": {
      "name": "python"
    }
  },
  "cells": [
    {
      "cell_type": "code",
      "metadata": {
        "id": "vl1nYp6a8nVE"
      },
      "source": [
        "#Autores:\n",
        "#Elián Roventini Andrade\n",
        "#Gabriel Souza Recouso\n",
        "#Vinícius Luiz Ventura Ribeiro\n",
        "\n",
        "#Abaixo está definido TODAS as bibliotecas utilizadas neste trabalho\n",
        "import pandas as pd\n",
        "import numpy as np\n",
        "import math as m\n",
        "import matplotlib.pyplot as plt\n",
        "import scipy.stats\n",
        "from matplotlib.ticker import PercentFormatter\n",
        "from statistics import stdev"
      ],
      "execution_count": 399,
      "outputs": []
    },
    {
      "cell_type": "markdown",
      "metadata": {
        "id": "7dtVRVbSEhdr"
      },
      "source": [
        "# Definindo funções do programa"
      ]
    },
    {
      "cell_type": "code",
      "metadata": {
        "id": "w40EYcgzqmJ_"
      },
      "source": [
        "#Defininido função para descobrir a mediana e a posição que ela se encontra\n",
        "def mediana(a):\n",
        "\n",
        "  a.sort() #Ordenando a coluna\n",
        "  pos = 0.5*(a.size+1)\n",
        "\n",
        "  if (pos == int(pos)):\n",
        "    return [pos, a[int(pos)]]\n",
        "  else:\n",
        "    return [pos, 0.5*(a[int(pos)]+a[int(pos)+1])]"
      ],
      "execution_count": 400,
      "outputs": []
    },
    {
      "cell_type": "code",
      "metadata": {
        "id": "FBsefCDcCi9R"
      },
      "source": [
        "#Definindo função para pegarmos o mínimo e máximo para o box-plot\n",
        "def MinMax(a, b):\n",
        "\n",
        "  aMin = int(a)\n",
        "  while aMin % 10:\n",
        "    aMin -= 1\n",
        "\n",
        "  bMax = int(b)\n",
        "  while bMax % 10:\n",
        "    bMax += 1\n",
        "\n",
        "  return [aMin, bMax+10]"
      ],
      "execution_count": 401,
      "outputs": []
    },
    {
      "cell_type": "markdown",
      "metadata": {
        "id": "qL4_mMidEn2I"
      },
      "source": [
        "---------------------------------------------------"
      ]
    },
    {
      "cell_type": "markdown",
      "metadata": {
        "id": "Bt8a3jWvEqCS"
      },
      "source": [
        "# Importação do arquivo"
      ]
    },
    {
      "cell_type": "code",
      "metadata": {
        "id": "-NWjab07_Fmq",
        "colab": {
          "base_uri": "https://localhost:8080/",
          "height": 379
        },
        "outputId": "e15b49a4-eafd-4625-f0c1-26259ace0fb7"
      },
      "source": [
        "#Importando o arquivo com os dados e mostrando as 10 primeiras linhas\n",
        "df = pd.read_csv('/content/Train.csv')\n",
        "df.head(10)"
      ],
      "execution_count": 402,
      "outputs": [
        {
          "output_type": "execute_result",
          "data": {
            "text/html": [
              "<div>\n",
              "<style scoped>\n",
              "    .dataframe tbody tr th:only-of-type {\n",
              "        vertical-align: middle;\n",
              "    }\n",
              "\n",
              "    .dataframe tbody tr th {\n",
              "        vertical-align: top;\n",
              "    }\n",
              "\n",
              "    .dataframe thead th {\n",
              "        text-align: right;\n",
              "    }\n",
              "</style>\n",
              "<table border=\"1\" class=\"dataframe\">\n",
              "  <thead>\n",
              "    <tr style=\"text-align: right;\">\n",
              "      <th></th>\n",
              "      <th>ID</th>\n",
              "      <th>Warehouse_block</th>\n",
              "      <th>Mode_of_Shipment</th>\n",
              "      <th>Customer_care_calls</th>\n",
              "      <th>Customer_rating</th>\n",
              "      <th>Cost_of_the_Product</th>\n",
              "      <th>Prior_purchases</th>\n",
              "      <th>Product_importance</th>\n",
              "      <th>Gender</th>\n",
              "      <th>Discount_offered</th>\n",
              "      <th>Weight_in_gms</th>\n",
              "      <th>Reached.on.Time_Y.N</th>\n",
              "    </tr>\n",
              "  </thead>\n",
              "  <tbody>\n",
              "    <tr>\n",
              "      <th>0</th>\n",
              "      <td>1</td>\n",
              "      <td>D</td>\n",
              "      <td>Flight</td>\n",
              "      <td>4</td>\n",
              "      <td>2</td>\n",
              "      <td>177</td>\n",
              "      <td>3</td>\n",
              "      <td>low</td>\n",
              "      <td>F</td>\n",
              "      <td>44</td>\n",
              "      <td>1233</td>\n",
              "      <td>1</td>\n",
              "    </tr>\n",
              "    <tr>\n",
              "      <th>1</th>\n",
              "      <td>2</td>\n",
              "      <td>F</td>\n",
              "      <td>Flight</td>\n",
              "      <td>4</td>\n",
              "      <td>5</td>\n",
              "      <td>216</td>\n",
              "      <td>2</td>\n",
              "      <td>low</td>\n",
              "      <td>M</td>\n",
              "      <td>59</td>\n",
              "      <td>3088</td>\n",
              "      <td>1</td>\n",
              "    </tr>\n",
              "    <tr>\n",
              "      <th>2</th>\n",
              "      <td>3</td>\n",
              "      <td>A</td>\n",
              "      <td>Flight</td>\n",
              "      <td>2</td>\n",
              "      <td>2</td>\n",
              "      <td>183</td>\n",
              "      <td>4</td>\n",
              "      <td>low</td>\n",
              "      <td>M</td>\n",
              "      <td>48</td>\n",
              "      <td>3374</td>\n",
              "      <td>1</td>\n",
              "    </tr>\n",
              "    <tr>\n",
              "      <th>3</th>\n",
              "      <td>4</td>\n",
              "      <td>B</td>\n",
              "      <td>Flight</td>\n",
              "      <td>3</td>\n",
              "      <td>3</td>\n",
              "      <td>176</td>\n",
              "      <td>4</td>\n",
              "      <td>medium</td>\n",
              "      <td>M</td>\n",
              "      <td>10</td>\n",
              "      <td>1177</td>\n",
              "      <td>1</td>\n",
              "    </tr>\n",
              "    <tr>\n",
              "      <th>4</th>\n",
              "      <td>5</td>\n",
              "      <td>C</td>\n",
              "      <td>Flight</td>\n",
              "      <td>2</td>\n",
              "      <td>2</td>\n",
              "      <td>184</td>\n",
              "      <td>3</td>\n",
              "      <td>medium</td>\n",
              "      <td>F</td>\n",
              "      <td>46</td>\n",
              "      <td>2484</td>\n",
              "      <td>1</td>\n",
              "    </tr>\n",
              "    <tr>\n",
              "      <th>5</th>\n",
              "      <td>6</td>\n",
              "      <td>F</td>\n",
              "      <td>Flight</td>\n",
              "      <td>3</td>\n",
              "      <td>1</td>\n",
              "      <td>162</td>\n",
              "      <td>3</td>\n",
              "      <td>medium</td>\n",
              "      <td>F</td>\n",
              "      <td>12</td>\n",
              "      <td>1417</td>\n",
              "      <td>1</td>\n",
              "    </tr>\n",
              "    <tr>\n",
              "      <th>6</th>\n",
              "      <td>7</td>\n",
              "      <td>D</td>\n",
              "      <td>Flight</td>\n",
              "      <td>3</td>\n",
              "      <td>4</td>\n",
              "      <td>250</td>\n",
              "      <td>3</td>\n",
              "      <td>low</td>\n",
              "      <td>F</td>\n",
              "      <td>3</td>\n",
              "      <td>2371</td>\n",
              "      <td>1</td>\n",
              "    </tr>\n",
              "    <tr>\n",
              "      <th>7</th>\n",
              "      <td>8</td>\n",
              "      <td>F</td>\n",
              "      <td>Flight</td>\n",
              "      <td>4</td>\n",
              "      <td>1</td>\n",
              "      <td>233</td>\n",
              "      <td>2</td>\n",
              "      <td>low</td>\n",
              "      <td>F</td>\n",
              "      <td>48</td>\n",
              "      <td>2804</td>\n",
              "      <td>1</td>\n",
              "    </tr>\n",
              "    <tr>\n",
              "      <th>8</th>\n",
              "      <td>9</td>\n",
              "      <td>A</td>\n",
              "      <td>Flight</td>\n",
              "      <td>3</td>\n",
              "      <td>4</td>\n",
              "      <td>150</td>\n",
              "      <td>3</td>\n",
              "      <td>low</td>\n",
              "      <td>F</td>\n",
              "      <td>11</td>\n",
              "      <td>1861</td>\n",
              "      <td>1</td>\n",
              "    </tr>\n",
              "    <tr>\n",
              "      <th>9</th>\n",
              "      <td>10</td>\n",
              "      <td>B</td>\n",
              "      <td>Flight</td>\n",
              "      <td>3</td>\n",
              "      <td>2</td>\n",
              "      <td>164</td>\n",
              "      <td>3</td>\n",
              "      <td>medium</td>\n",
              "      <td>F</td>\n",
              "      <td>29</td>\n",
              "      <td>1187</td>\n",
              "      <td>1</td>\n",
              "    </tr>\n",
              "  </tbody>\n",
              "</table>\n",
              "</div>"
            ],
            "text/plain": [
              "   ID Warehouse_block  ... Weight_in_gms  Reached.on.Time_Y.N\n",
              "0   1               D  ...          1233                    1\n",
              "1   2               F  ...          3088                    1\n",
              "2   3               A  ...          3374                    1\n",
              "3   4               B  ...          1177                    1\n",
              "4   5               C  ...          2484                    1\n",
              "5   6               F  ...          1417                    1\n",
              "6   7               D  ...          2371                    1\n",
              "7   8               F  ...          2804                    1\n",
              "8   9               A  ...          1861                    1\n",
              "9  10               B  ...          1187                    1\n",
              "\n",
              "[10 rows x 12 columns]"
            ]
          },
          "metadata": {
            "tags": []
          },
          "execution_count": 402
        }
      ]
    },
    {
      "cell_type": "markdown",
      "metadata": {
        "id": "OurIed4VEsdG"
      },
      "source": [
        "---------------------------------------------------"
      ]
    },
    {
      "cell_type": "markdown",
      "metadata": {
        "id": "IfCqk-eZt-ww"
      },
      "source": [
        "# 2. Elabore a tabela de frequências com os dados deste arquivo,\n",
        "  1. Caso os dados sejam categóricos, a tabela deve conter as categorias, a frequência, a frequência acumulada, as respectivas frequências relativas e o diagrama de Pareto das variáveis"
      ]
    },
    {
      "cell_type": "markdown",
      "metadata": {
        "id": "O9aL1gWRpATh"
      },
      "source": [
        "# Tipo Categórico"
      ]
    },
    {
      "cell_type": "code",
      "metadata": {
        "colab": {
          "base_uri": "https://localhost:8080/",
          "height": 142
        },
        "id": "zqNYf7JLQRXB",
        "outputId": "1cfbf113-d9ae-4e19-8a73-8c7c6965f9ba"
      },
      "source": [
        "#Definindo a tabela de frequência, primeiramente pegando a coluna chamada 'Mode_of_Shipment', efetuando a contagem de cada valor nessa coluna e convertendo em um DataFrame, descobrindo assim a frequência de cada item\n",
        "#Após isso, estamos resetando o index do dataframe apenas por conveniência e assim mostrando a tabela\n",
        "tabela = df['Mode_of_Shipment'].value_counts().to_frame()\n",
        "tabela = tabela.reset_index()\n",
        "tabela"
      ],
      "execution_count": 403,
      "outputs": [
        {
          "output_type": "execute_result",
          "data": {
            "text/html": [
              "<div>\n",
              "<style scoped>\n",
              "    .dataframe tbody tr th:only-of-type {\n",
              "        vertical-align: middle;\n",
              "    }\n",
              "\n",
              "    .dataframe tbody tr th {\n",
              "        vertical-align: top;\n",
              "    }\n",
              "\n",
              "    .dataframe thead th {\n",
              "        text-align: right;\n",
              "    }\n",
              "</style>\n",
              "<table border=\"1\" class=\"dataframe\">\n",
              "  <thead>\n",
              "    <tr style=\"text-align: right;\">\n",
              "      <th></th>\n",
              "      <th>index</th>\n",
              "      <th>Mode_of_Shipment</th>\n",
              "    </tr>\n",
              "  </thead>\n",
              "  <tbody>\n",
              "    <tr>\n",
              "      <th>0</th>\n",
              "      <td>Ship</td>\n",
              "      <td>7462</td>\n",
              "    </tr>\n",
              "    <tr>\n",
              "      <th>1</th>\n",
              "      <td>Flight</td>\n",
              "      <td>1777</td>\n",
              "    </tr>\n",
              "    <tr>\n",
              "      <th>2</th>\n",
              "      <td>Road</td>\n",
              "      <td>1760</td>\n",
              "    </tr>\n",
              "  </tbody>\n",
              "</table>\n",
              "</div>"
            ],
            "text/plain": [
              "    index  Mode_of_Shipment\n",
              "0    Ship              7462\n",
              "1  Flight              1777\n",
              "2    Road              1760"
            ]
          },
          "metadata": {
            "tags": []
          },
          "execution_count": 403
        }
      ]
    },
    {
      "cell_type": "code",
      "metadata": {
        "colab": {
          "base_uri": "https://localhost:8080/",
          "height": 142
        },
        "id": "KDku2hKnRQHM",
        "outputId": "fb9ca515-ef2f-4602-cafc-7a0887726f3b"
      },
      "source": [
        "#Aqui estamos alterando o nome das colunas para uma visibilidade melhor\n",
        "tabela.rename(columns={'Mode_of_Shipment':'freq', 'index':'tipo_locomocao'}, inplace=True)\n",
        "tabela"
      ],
      "execution_count": 404,
      "outputs": [
        {
          "output_type": "execute_result",
          "data": {
            "text/html": [
              "<div>\n",
              "<style scoped>\n",
              "    .dataframe tbody tr th:only-of-type {\n",
              "        vertical-align: middle;\n",
              "    }\n",
              "\n",
              "    .dataframe tbody tr th {\n",
              "        vertical-align: top;\n",
              "    }\n",
              "\n",
              "    .dataframe thead th {\n",
              "        text-align: right;\n",
              "    }\n",
              "</style>\n",
              "<table border=\"1\" class=\"dataframe\">\n",
              "  <thead>\n",
              "    <tr style=\"text-align: right;\">\n",
              "      <th></th>\n",
              "      <th>tipo_locomocao</th>\n",
              "      <th>freq</th>\n",
              "    </tr>\n",
              "  </thead>\n",
              "  <tbody>\n",
              "    <tr>\n",
              "      <th>0</th>\n",
              "      <td>Ship</td>\n",
              "      <td>7462</td>\n",
              "    </tr>\n",
              "    <tr>\n",
              "      <th>1</th>\n",
              "      <td>Flight</td>\n",
              "      <td>1777</td>\n",
              "    </tr>\n",
              "    <tr>\n",
              "      <th>2</th>\n",
              "      <td>Road</td>\n",
              "      <td>1760</td>\n",
              "    </tr>\n",
              "  </tbody>\n",
              "</table>\n",
              "</div>"
            ],
            "text/plain": [
              "  tipo_locomocao  freq\n",
              "0           Ship  7462\n",
              "1         Flight  1777\n",
              "2           Road  1760"
            ]
          },
          "metadata": {
            "tags": []
          },
          "execution_count": 404
        }
      ]
    },
    {
      "cell_type": "code",
      "metadata": {
        "id": "asGQ-BMESreN",
        "colab": {
          "base_uri": "https://localhost:8080/",
          "height": 142
        },
        "outputId": "26de8f8b-22b6-4d0e-f9c3-066030832c86"
      },
      "source": [
        "#Para descobrir a Frequência Acumulada, somamos todas as frequências de cada linha\n",
        "tabela['freqAcum'] = tabela['freq'].cumsum()\n",
        "tabela"
      ],
      "execution_count": 405,
      "outputs": [
        {
          "output_type": "execute_result",
          "data": {
            "text/html": [
              "<div>\n",
              "<style scoped>\n",
              "    .dataframe tbody tr th:only-of-type {\n",
              "        vertical-align: middle;\n",
              "    }\n",
              "\n",
              "    .dataframe tbody tr th {\n",
              "        vertical-align: top;\n",
              "    }\n",
              "\n",
              "    .dataframe thead th {\n",
              "        text-align: right;\n",
              "    }\n",
              "</style>\n",
              "<table border=\"1\" class=\"dataframe\">\n",
              "  <thead>\n",
              "    <tr style=\"text-align: right;\">\n",
              "      <th></th>\n",
              "      <th>tipo_locomocao</th>\n",
              "      <th>freq</th>\n",
              "      <th>freqAcum</th>\n",
              "    </tr>\n",
              "  </thead>\n",
              "  <tbody>\n",
              "    <tr>\n",
              "      <th>0</th>\n",
              "      <td>Ship</td>\n",
              "      <td>7462</td>\n",
              "      <td>7462</td>\n",
              "    </tr>\n",
              "    <tr>\n",
              "      <th>1</th>\n",
              "      <td>Flight</td>\n",
              "      <td>1777</td>\n",
              "      <td>9239</td>\n",
              "    </tr>\n",
              "    <tr>\n",
              "      <th>2</th>\n",
              "      <td>Road</td>\n",
              "      <td>1760</td>\n",
              "      <td>10999</td>\n",
              "    </tr>\n",
              "  </tbody>\n",
              "</table>\n",
              "</div>"
            ],
            "text/plain": [
              "  tipo_locomocao  freq  freqAcum\n",
              "0           Ship  7462      7462\n",
              "1         Flight  1777      9239\n",
              "2           Road  1760     10999"
            ]
          },
          "metadata": {
            "tags": []
          },
          "execution_count": 405
        }
      ]
    },
    {
      "cell_type": "code",
      "metadata": {
        "colab": {
          "base_uri": "https://localhost:8080/",
          "height": 142
        },
        "id": "SL0RbBlhOx7G",
        "outputId": "8cb0a734-118c-4fb3-b525-68858c6d4174"
      },
      "source": [
        "#Estamos efetuando a soma da coluna de frequência e dividindo pela frequência de cada linha para descobrirmos a Frequência Relativa\n",
        "tabela['freqRel'] = tabela['freq']/tabela['freq'].sum()\n",
        "tabela"
      ],
      "execution_count": 406,
      "outputs": [
        {
          "output_type": "execute_result",
          "data": {
            "text/html": [
              "<div>\n",
              "<style scoped>\n",
              "    .dataframe tbody tr th:only-of-type {\n",
              "        vertical-align: middle;\n",
              "    }\n",
              "\n",
              "    .dataframe tbody tr th {\n",
              "        vertical-align: top;\n",
              "    }\n",
              "\n",
              "    .dataframe thead th {\n",
              "        text-align: right;\n",
              "    }\n",
              "</style>\n",
              "<table border=\"1\" class=\"dataframe\">\n",
              "  <thead>\n",
              "    <tr style=\"text-align: right;\">\n",
              "      <th></th>\n",
              "      <th>tipo_locomocao</th>\n",
              "      <th>freq</th>\n",
              "      <th>freqAcum</th>\n",
              "      <th>freqRel</th>\n",
              "    </tr>\n",
              "  </thead>\n",
              "  <tbody>\n",
              "    <tr>\n",
              "      <th>0</th>\n",
              "      <td>Ship</td>\n",
              "      <td>7462</td>\n",
              "      <td>7462</td>\n",
              "      <td>0.678425</td>\n",
              "    </tr>\n",
              "    <tr>\n",
              "      <th>1</th>\n",
              "      <td>Flight</td>\n",
              "      <td>1777</td>\n",
              "      <td>9239</td>\n",
              "      <td>0.161560</td>\n",
              "    </tr>\n",
              "    <tr>\n",
              "      <th>2</th>\n",
              "      <td>Road</td>\n",
              "      <td>1760</td>\n",
              "      <td>10999</td>\n",
              "      <td>0.160015</td>\n",
              "    </tr>\n",
              "  </tbody>\n",
              "</table>\n",
              "</div>"
            ],
            "text/plain": [
              "  tipo_locomocao  freq  freqAcum   freqRel\n",
              "0           Ship  7462      7462  0.678425\n",
              "1         Flight  1777      9239  0.161560\n",
              "2           Road  1760     10999  0.160015"
            ]
          },
          "metadata": {
            "tags": []
          },
          "execution_count": 406
        }
      ]
    },
    {
      "cell_type": "code",
      "metadata": {
        "colab": {
          "base_uri": "https://localhost:8080/",
          "height": 142
        },
        "id": "1pfZJ2qkTrFP",
        "outputId": "4c99163d-908f-4151-e7d4-4c77cfe06740"
      },
      "source": [
        "#Utilizamos o mesmo processo anteriormente para descobrir a frequência relativa acumulada, no entanto dividimos pela frequência acumulada\n",
        "tabela['freqRelAcum'] = tabela['freqAcum']/tabela['freq'].sum()\n",
        "tabela"
      ],
      "execution_count": 407,
      "outputs": [
        {
          "output_type": "execute_result",
          "data": {
            "text/html": [
              "<div>\n",
              "<style scoped>\n",
              "    .dataframe tbody tr th:only-of-type {\n",
              "        vertical-align: middle;\n",
              "    }\n",
              "\n",
              "    .dataframe tbody tr th {\n",
              "        vertical-align: top;\n",
              "    }\n",
              "\n",
              "    .dataframe thead th {\n",
              "        text-align: right;\n",
              "    }\n",
              "</style>\n",
              "<table border=\"1\" class=\"dataframe\">\n",
              "  <thead>\n",
              "    <tr style=\"text-align: right;\">\n",
              "      <th></th>\n",
              "      <th>tipo_locomocao</th>\n",
              "      <th>freq</th>\n",
              "      <th>freqAcum</th>\n",
              "      <th>freqRel</th>\n",
              "      <th>freqRelAcum</th>\n",
              "    </tr>\n",
              "  </thead>\n",
              "  <tbody>\n",
              "    <tr>\n",
              "      <th>0</th>\n",
              "      <td>Ship</td>\n",
              "      <td>7462</td>\n",
              "      <td>7462</td>\n",
              "      <td>0.678425</td>\n",
              "      <td>0.678425</td>\n",
              "    </tr>\n",
              "    <tr>\n",
              "      <th>1</th>\n",
              "      <td>Flight</td>\n",
              "      <td>1777</td>\n",
              "      <td>9239</td>\n",
              "      <td>0.161560</td>\n",
              "      <td>0.839985</td>\n",
              "    </tr>\n",
              "    <tr>\n",
              "      <th>2</th>\n",
              "      <td>Road</td>\n",
              "      <td>1760</td>\n",
              "      <td>10999</td>\n",
              "      <td>0.160015</td>\n",
              "      <td>1.000000</td>\n",
              "    </tr>\n",
              "  </tbody>\n",
              "</table>\n",
              "</div>"
            ],
            "text/plain": [
              "  tipo_locomocao  freq  freqAcum   freqRel  freqRelAcum\n",
              "0           Ship  7462      7462  0.678425     0.678425\n",
              "1         Flight  1777      9239  0.161560     0.839985\n",
              "2           Road  1760     10999  0.160015     1.000000"
            ]
          },
          "metadata": {
            "tags": []
          },
          "execution_count": 407
        }
      ]
    },
    {
      "cell_type": "code",
      "metadata": {
        "colab": {
          "base_uri": "https://localhost:8080/",
          "height": 320
        },
        "id": "QLqlJVAIU9FS",
        "outputId": "e4fff247-4dd8-44f9-c325-83d2050d1348"
      },
      "source": [
        "#Aqui geramos um gráfico para podermos ver as diferenças e o tipo de locomação que é mais utilizado para o transporte dos produtos dessa base de dados\n",
        "nomes = tabela['tipo_locomocao'].to_list()\n",
        "valores = tabela['freqRel'].to_list()\n",
        "\n",
        "plt.figure(figsize=(5,5))\n",
        "plt.bar(nomes, valores, width=1, edgecolor='red')\n",
        "plt.grid()\n",
        "plt.show()"
      ],
      "execution_count": 408,
      "outputs": [
        {
          "output_type": "display_data",
          "data": {
            "image/png": "[encoded data removed]",
            "text/plain": [
              "<Figure size 360x360 with 1 Axes>"
            ]
          },
          "metadata": {
            "tags": [],
            "needs_background": "light"
          }
        }
      ]
    },
    {
      "cell_type": "code",
      "metadata": {
        "colab": {
          "base_uri": "https://localhost:8080/",
          "height": 324
        },
        "id": "aOofTuM4Vu9U",
        "outputId": "5212830b-518f-47fd-c33a-8cc827cdad22"
      },
      "source": [
        "#Neste bloco de Código estamos realizando o Diagrama de Pareto\n",
        "tabela_pareto = tabela\n",
        "tabela_pareto = tabela_pareto.sort_values(by='freq',ascending=False) #Ordenando os valores da tabela de frequência, do maior para o menor\n",
        "tabela_pareto[\"freqRelAcum\"] = round(tabela_pareto[\"freq\"].cumsum()/tabela_pareto[\"freq\"].sum()*100,2) #atribuindo a Frequencia Relativa Acumulada, arrendodamos a soma acumulada da frequência dividido pela soma total da frequência multiplicada por 100.\n",
        "fig, ax = plt.subplots(figsize=(10,5)) #Definindo tamanho do gráfico\n",
        "ax.bar(tabela_pareto.tipo_locomocao, tabela_pareto[\"freq\"], color=\"blue\") #Criando as barras do gráfico colorindo de azul\n",
        "ax2 = ax.twinx()\n",
        "ax2.plot(tabela_pareto.tipo_locomocao, tabela_pareto[\"freqRelAcum\"], color=\"red\", marker=\"D\", ms=7) #Definindo a linha do diagrama de pareto\n",
        "ax2.yaxis.set_major_formatter(PercentFormatter())\n",
        "ax.tick_params(axis=\"y\", colors=\"black\") #Definindo valores de y com cor preto\n",
        "ax2.tick_params(axis=\"y\", colors=\"black\") #Definindo valores de y com cor preto\n",
        "ax2.set_ylim(0,105) #Melhorando a visibilidade do gráfico\n",
        "ax.set_ylim(0,8000) #Melhorando a visibilidade do gráfico\n",
        "plt.show()"
      ],
      "execution_count": 409,
      "outputs": [
        {
          "output_type": "display_data",
          "data": {
            "image/png": "[encoded data removed]",
            "text/plain": [
              "<Figure size 720x360 with 2 Axes>"
            ]
          },
          "metadata": {
            "tags": [],
            "needs_background": "light"
          }
        }
      ]
    },
    {
      "cell_type": "markdown",
      "metadata": {
        "id": "D3K4zg9sTPn9"
      },
      "source": [
        "---------------------------------------------------"
      ]
    },
    {
      "cell_type": "markdown",
      "metadata": {
        "id": "2jbIfpesERjB"
      },
      "source": [
        "# 2. Elabore a tabela de frequências com os dados deste arquivo,\n",
        "2. Caso os dados sejam numéricos, a tabela deve conter as faixas de valores, o ponto médio, a\n",
        "frequência, a frequência acumulada, as respectivas frequências relativas e a ogiva das variáveis"
      ]
    },
    {
      "cell_type": "markdown",
      "metadata": {
        "id": "uQc8hPtjvJZP"
      },
      "source": [
        "#Tipo Numérico"
      ]
    },
    {
      "cell_type": "code",
      "metadata": {
        "colab": {
          "base_uri": "https://localhost:8080/"
        },
        "id": "2hqFnkn6vOUJ",
        "outputId": "23ef3073-7bce-4a0a-d9a4-017bc1120612"
      },
      "source": [
        "N = df['Customer_rating'].count()  # quantidade de amostras\n",
        "Max = df['Customer_rating'].max()  # maior valor entre as amostras\n",
        "Min = df['Customer_rating'].min()  # menor valor entre as amostras\n",
        "print('N = '+str(N)+'\\nMax = '+str(Max)+'\\nMin = '+str(Min))"
      ],
      "execution_count": 410,
      "outputs": [
        {
          "output_type": "stream",
          "text": [
            "N = 10999\n",
            "Max = 5\n",
            "Min = 1\n"
          ],
          "name": "stdout"
        }
      ]
    },
    {
      "cell_type": "code",
      "metadata": {
        "colab": {
          "base_uri": "https://localhost:8080/"
        },
        "id": "75xqSvywwUcd",
        "outputId": "3f93542b-ac93-4adc-8d93-2317768e93b9"
      },
      "source": [
        "n = m.ceil(m.log2(N))       # quantidade de faixas de valores (linhas na tabela) => fórmula de Sturges\n",
        "A = Max - Min               # amplitude total das amostras\n",
        "c = 1                       # quantidade de casas decimais das amostras\n",
        "d = 0.1*c*m.ceil(10*c*A/n)  # amplitude das faixas de valores\n",
        "print('n = '+str(n)+'\\nA = '+str(A)+'\\nd = '+str(d))"
      ],
      "execution_count": 411,
      "outputs": [
        {
          "output_type": "stream",
          "text": [
            "n = 14\n",
            "A = 4\n",
            "d = 0.30000000000000004\n"
          ],
          "name": "stdout"
        }
      ]
    },
    {
      "cell_type": "code",
      "metadata": {
        "colab": {
          "base_uri": "https://localhost:8080/"
        },
        "id": "bZdvR5xGwd1n",
        "outputId": "bd466b04-bec3-489f-84c5-ce38d369b406"
      },
      "source": [
        "faixa = np.arange(Min, Min+n*d, d) #Criando a faixa\n",
        "faixa"
      ],
      "execution_count": 412,
      "outputs": [
        {
          "output_type": "execute_result",
          "data": {
            "text/plain": [
              "array([1. , 1.3, 1.6, 1.9, 2.2, 2.5, 2.8, 3.1, 3.4, 3.7, 4. , 4.3, 4.6,\n",
              "       4.9, 5.2])"
            ]
          },
          "metadata": {
            "tags": []
          },
          "execution_count": 412
        }
      ]
    },
    {
      "cell_type": "code",
      "metadata": {
        "colab": {
          "base_uri": "https://localhost:8080/",
          "height": 514
        },
        "id": "bBY3-o3vwst9",
        "outputId": "a686634c-6398-423a-9bf0-21f815c7caa8"
      },
      "source": [
        "tabela2 = pd.DataFrame(faixa, columns=['limite inferior']) #Definindo coluna de limite inferior\n",
        "tabela2"
      ],
      "execution_count": 413,
      "outputs": [
        {
          "output_type": "execute_result",
          "data": {
            "text/html": [
              "<div>\n",
              "<style scoped>\n",
              "    .dataframe tbody tr th:only-of-type {\n",
              "        vertical-align: middle;\n",
              "    }\n",
              "\n",
              "    .dataframe tbody tr th {\n",
              "        vertical-align: top;\n",
              "    }\n",
              "\n",
              "    .dataframe thead th {\n",
              "        text-align: right;\n",
              "    }\n",
              "</style>\n",
              "<table border=\"1\" class=\"dataframe\">\n",
              "  <thead>\n",
              "    <tr style=\"text-align: right;\">\n",
              "      <th></th>\n",
              "      <th>limite inferior</th>\n",
              "    </tr>\n",
              "  </thead>\n",
              "  <tbody>\n",
              "    <tr>\n",
              "      <th>0</th>\n",
              "      <td>1.0</td>\n",
              "    </tr>\n",
              "    <tr>\n",
              "      <th>1</th>\n",
              "      <td>1.3</td>\n",
              "    </tr>\n",
              "    <tr>\n",
              "      <th>2</th>\n",
              "      <td>1.6</td>\n",
              "    </tr>\n",
              "    <tr>\n",
              "      <th>3</th>\n",
              "      <td>1.9</td>\n",
              "    </tr>\n",
              "    <tr>\n",
              "      <th>4</th>\n",
              "      <td>2.2</td>\n",
              "    </tr>\n",
              "    <tr>\n",
              "      <th>5</th>\n",
              "      <td>2.5</td>\n",
              "    </tr>\n",
              "    <tr>\n",
              "      <th>6</th>\n",
              "      <td>2.8</td>\n",
              "    </tr>\n",
              "    <tr>\n",
              "      <th>7</th>\n",
              "      <td>3.1</td>\n",
              "    </tr>\n",
              "    <tr>\n",
              "      <th>8</th>\n",
              "      <td>3.4</td>\n",
              "    </tr>\n",
              "    <tr>\n",
              "      <th>9</th>\n",
              "      <td>3.7</td>\n",
              "    </tr>\n",
              "    <tr>\n",
              "      <th>10</th>\n",
              "      <td>4.0</td>\n",
              "    </tr>\n",
              "    <tr>\n",
              "      <th>11</th>\n",
              "      <td>4.3</td>\n",
              "    </tr>\n",
              "    <tr>\n",
              "      <th>12</th>\n",
              "      <td>4.6</td>\n",
              "    </tr>\n",
              "    <tr>\n",
              "      <th>13</th>\n",
              "      <td>4.9</td>\n",
              "    </tr>\n",
              "    <tr>\n",
              "      <th>14</th>\n",
              "      <td>5.2</td>\n",
              "    </tr>\n",
              "  </tbody>\n",
              "</table>\n",
              "</div>"
            ],
            "text/plain": [
              "    limite inferior\n",
              "0               1.0\n",
              "1               1.3\n",
              "2               1.6\n",
              "3               1.9\n",
              "4               2.2\n",
              "5               2.5\n",
              "6               2.8\n",
              "7               3.1\n",
              "8               3.4\n",
              "9               3.7\n",
              "10              4.0\n",
              "11              4.3\n",
              "12              4.6\n",
              "13              4.9\n",
              "14              5.2"
            ]
          },
          "metadata": {
            "tags": []
          },
          "execution_count": 413
        }
      ]
    },
    {
      "cell_type": "code",
      "metadata": {
        "colab": {
          "base_uri": "https://localhost:8080/",
          "height": 514
        },
        "id": "_Xc2BMAgw37o",
        "outputId": "b54e899a-e63e-41a4-b78d-d8a5c0cf467b"
      },
      "source": [
        "tabela2['limite superior'] = tabela2['limite inferior']+d #Definindo coluna de limite superior\n",
        "tabela2['ponto medio'] = tabela2['limite inferior']+round(d*0.5,1) #Definindo coluna de ponto médio\n",
        "tabela2"
      ],
      "execution_count": 414,
      "outputs": [
        {
          "output_type": "execute_result",
          "data": {
            "text/html": [
              "<div>\n",
              "<style scoped>\n",
              "    .dataframe tbody tr th:only-of-type {\n",
              "        vertical-align: middle;\n",
              "    }\n",
              "\n",
              "    .dataframe tbody tr th {\n",
              "        vertical-align: top;\n",
              "    }\n",
              "\n",
              "    .dataframe thead th {\n",
              "        text-align: right;\n",
              "    }\n",
              "</style>\n",
              "<table border=\"1\" class=\"dataframe\">\n",
              "  <thead>\n",
              "    <tr style=\"text-align: right;\">\n",
              "      <th></th>\n",
              "      <th>limite inferior</th>\n",
              "      <th>limite superior</th>\n",
              "      <th>ponto medio</th>\n",
              "    </tr>\n",
              "  </thead>\n",
              "  <tbody>\n",
              "    <tr>\n",
              "      <th>0</th>\n",
              "      <td>1.0</td>\n",
              "      <td>1.3</td>\n",
              "      <td>1.2</td>\n",
              "    </tr>\n",
              "    <tr>\n",
              "      <th>1</th>\n",
              "      <td>1.3</td>\n",
              "      <td>1.6</td>\n",
              "      <td>1.5</td>\n",
              "    </tr>\n",
              "    <tr>\n",
              "      <th>2</th>\n",
              "      <td>1.6</td>\n",
              "      <td>1.9</td>\n",
              "      <td>1.8</td>\n",
              "    </tr>\n",
              "    <tr>\n",
              "      <th>3</th>\n",
              "      <td>1.9</td>\n",
              "      <td>2.2</td>\n",
              "      <td>2.1</td>\n",
              "    </tr>\n",
              "    <tr>\n",
              "      <th>4</th>\n",
              "      <td>2.2</td>\n",
              "      <td>2.5</td>\n",
              "      <td>2.4</td>\n",
              "    </tr>\n",
              "    <tr>\n",
              "      <th>5</th>\n",
              "      <td>2.5</td>\n",
              "      <td>2.8</td>\n",
              "      <td>2.7</td>\n",
              "    </tr>\n",
              "    <tr>\n",
              "      <th>6</th>\n",
              "      <td>2.8</td>\n",
              "      <td>3.1</td>\n",
              "      <td>3.0</td>\n",
              "    </tr>\n",
              "    <tr>\n",
              "      <th>7</th>\n",
              "      <td>3.1</td>\n",
              "      <td>3.4</td>\n",
              "      <td>3.3</td>\n",
              "    </tr>\n",
              "    <tr>\n",
              "      <th>8</th>\n",
              "      <td>3.4</td>\n",
              "      <td>3.7</td>\n",
              "      <td>3.6</td>\n",
              "    </tr>\n",
              "    <tr>\n",
              "      <th>9</th>\n",
              "      <td>3.7</td>\n",
              "      <td>4.0</td>\n",
              "      <td>3.9</td>\n",
              "    </tr>\n",
              "    <tr>\n",
              "      <th>10</th>\n",
              "      <td>4.0</td>\n",
              "      <td>4.3</td>\n",
              "      <td>4.2</td>\n",
              "    </tr>\n",
              "    <tr>\n",
              "      <th>11</th>\n",
              "      <td>4.3</td>\n",
              "      <td>4.6</td>\n",
              "      <td>4.5</td>\n",
              "    </tr>\n",
              "    <tr>\n",
              "      <th>12</th>\n",
              "      <td>4.6</td>\n",
              "      <td>4.9</td>\n",
              "      <td>4.8</td>\n",
              "    </tr>\n",
              "    <tr>\n",
              "      <th>13</th>\n",
              "      <td>4.9</td>\n",
              "      <td>5.2</td>\n",
              "      <td>5.1</td>\n",
              "    </tr>\n",
              "    <tr>\n",
              "      <th>14</th>\n",
              "      <td>5.2</td>\n",
              "      <td>5.5</td>\n",
              "      <td>5.4</td>\n",
              "    </tr>\n",
              "  </tbody>\n",
              "</table>\n",
              "</div>"
            ],
            "text/plain": [
              "    limite inferior  limite superior  ponto medio\n",
              "0               1.0              1.3          1.2\n",
              "1               1.3              1.6          1.5\n",
              "2               1.6              1.9          1.8\n",
              "3               1.9              2.2          2.1\n",
              "4               2.2              2.5          2.4\n",
              "5               2.5              2.8          2.7\n",
              "6               2.8              3.1          3.0\n",
              "7               3.1              3.4          3.3\n",
              "8               3.4              3.7          3.6\n",
              "9               3.7              4.0          3.9\n",
              "10              4.0              4.3          4.2\n",
              "11              4.3              4.6          4.5\n",
              "12              4.6              4.9          4.8\n",
              "13              4.9              5.2          5.1\n",
              "14              5.2              5.5          5.4"
            ]
          },
          "metadata": {
            "tags": []
          },
          "execution_count": 414
        }
      ]
    },
    {
      "cell_type": "code",
      "metadata": {
        "colab": {
          "base_uri": "https://localhost:8080/",
          "height": 514
        },
        "id": "n3VRwTKNw8gZ",
        "outputId": "354a5833-224f-4be2-9ed0-fd4637544845"
      },
      "source": [
        "#Definindo coluna de frequência a partir do limite inferior\n",
        "freq = np.empty(0)\n",
        "for limite in tabela2['limite inferior']:\n",
        "  freq = np.append(freq, df[(df['Customer_rating']>=limite) & (df['Customer_rating']<limite+d)]['Customer_rating'].count())\n",
        "tabela2['freq'] = freq\n",
        "tabela2"
      ],
      "execution_count": 415,
      "outputs": [
        {
          "output_type": "execute_result",
          "data": {
            "text/html": [
              "<div>\n",
              "<style scoped>\n",
              "    .dataframe tbody tr th:only-of-type {\n",
              "        vertical-align: middle;\n",
              "    }\n",
              "\n",
              "    .dataframe tbody tr th {\n",
              "        vertical-align: top;\n",
              "    }\n",
              "\n",
              "    .dataframe thead th {\n",
              "        text-align: right;\n",
              "    }\n",
              "</style>\n",
              "<table border=\"1\" class=\"dataframe\">\n",
              "  <thead>\n",
              "    <tr style=\"text-align: right;\">\n",
              "      <th></th>\n",
              "      <th>limite inferior</th>\n",
              "      <th>limite superior</th>\n",
              "      <th>ponto medio</th>\n",
              "      <th>freq</th>\n",
              "    </tr>\n",
              "  </thead>\n",
              "  <tbody>\n",
              "    <tr>\n",
              "      <th>0</th>\n",
              "      <td>1.0</td>\n",
              "      <td>1.3</td>\n",
              "      <td>1.2</td>\n",
              "      <td>2235.0</td>\n",
              "    </tr>\n",
              "    <tr>\n",
              "      <th>1</th>\n",
              "      <td>1.3</td>\n",
              "      <td>1.6</td>\n",
              "      <td>1.5</td>\n",
              "      <td>0.0</td>\n",
              "    </tr>\n",
              "    <tr>\n",
              "      <th>2</th>\n",
              "      <td>1.6</td>\n",
              "      <td>1.9</td>\n",
              "      <td>1.8</td>\n",
              "      <td>0.0</td>\n",
              "    </tr>\n",
              "    <tr>\n",
              "      <th>3</th>\n",
              "      <td>1.9</td>\n",
              "      <td>2.2</td>\n",
              "      <td>2.1</td>\n",
              "      <td>2165.0</td>\n",
              "    </tr>\n",
              "    <tr>\n",
              "      <th>4</th>\n",
              "      <td>2.2</td>\n",
              "      <td>2.5</td>\n",
              "      <td>2.4</td>\n",
              "      <td>0.0</td>\n",
              "    </tr>\n",
              "    <tr>\n",
              "      <th>5</th>\n",
              "      <td>2.5</td>\n",
              "      <td>2.8</td>\n",
              "      <td>2.7</td>\n",
              "      <td>0.0</td>\n",
              "    </tr>\n",
              "    <tr>\n",
              "      <th>6</th>\n",
              "      <td>2.8</td>\n",
              "      <td>3.1</td>\n",
              "      <td>3.0</td>\n",
              "      <td>2239.0</td>\n",
              "    </tr>\n",
              "    <tr>\n",
              "      <th>7</th>\n",
              "      <td>3.1</td>\n",
              "      <td>3.4</td>\n",
              "      <td>3.3</td>\n",
              "      <td>0.0</td>\n",
              "    </tr>\n",
              "    <tr>\n",
              "      <th>8</th>\n",
              "      <td>3.4</td>\n",
              "      <td>3.7</td>\n",
              "      <td>3.6</td>\n",
              "      <td>0.0</td>\n",
              "    </tr>\n",
              "    <tr>\n",
              "      <th>9</th>\n",
              "      <td>3.7</td>\n",
              "      <td>4.0</td>\n",
              "      <td>3.9</td>\n",
              "      <td>0.0</td>\n",
              "    </tr>\n",
              "    <tr>\n",
              "      <th>10</th>\n",
              "      <td>4.0</td>\n",
              "      <td>4.3</td>\n",
              "      <td>4.2</td>\n",
              "      <td>2189.0</td>\n",
              "    </tr>\n",
              "    <tr>\n",
              "      <th>11</th>\n",
              "      <td>4.3</td>\n",
              "      <td>4.6</td>\n",
              "      <td>4.5</td>\n",
              "      <td>0.0</td>\n",
              "    </tr>\n",
              "    <tr>\n",
              "      <th>12</th>\n",
              "      <td>4.6</td>\n",
              "      <td>4.9</td>\n",
              "      <td>4.8</td>\n",
              "      <td>0.0</td>\n",
              "    </tr>\n",
              "    <tr>\n",
              "      <th>13</th>\n",
              "      <td>4.9</td>\n",
              "      <td>5.2</td>\n",
              "      <td>5.1</td>\n",
              "      <td>2171.0</td>\n",
              "    </tr>\n",
              "    <tr>\n",
              "      <th>14</th>\n",
              "      <td>5.2</td>\n",
              "      <td>5.5</td>\n",
              "      <td>5.4</td>\n",
              "      <td>0.0</td>\n",
              "    </tr>\n",
              "  </tbody>\n",
              "</table>\n",
              "</div>"
            ],
            "text/plain": [
              "    limite inferior  limite superior  ponto medio    freq\n",
              "0               1.0              1.3          1.2  2235.0\n",
              "1               1.3              1.6          1.5     0.0\n",
              "2               1.6              1.9          1.8     0.0\n",
              "3               1.9              2.2          2.1  2165.0\n",
              "4               2.2              2.5          2.4     0.0\n",
              "5               2.5              2.8          2.7     0.0\n",
              "6               2.8              3.1          3.0  2239.0\n",
              "7               3.1              3.4          3.3     0.0\n",
              "8               3.4              3.7          3.6     0.0\n",
              "9               3.7              4.0          3.9     0.0\n",
              "10              4.0              4.3          4.2  2189.0\n",
              "11              4.3              4.6          4.5     0.0\n",
              "12              4.6              4.9          4.8     0.0\n",
              "13              4.9              5.2          5.1  2171.0\n",
              "14              5.2              5.5          5.4     0.0"
            ]
          },
          "metadata": {
            "tags": []
          },
          "execution_count": 415
        }
      ]
    },
    {
      "cell_type": "code",
      "metadata": {
        "colab": {
          "base_uri": "https://localhost:8080/",
          "height": 514
        },
        "id": "NZ5Z4-JOxJeu",
        "outputId": "0767e82a-0b33-45e0-b401-77ad03938e9b"
      },
      "source": [
        "#Definindo coluna de frequência relativa, realizando a divisão entre a frequência e a soma acumulada da frequências para cada linha\n",
        "tabela2['freqRel'] = tabela2['freq']/tabela2['freq'].sum()\n",
        "tabela2"
      ],
      "execution_count": 416,
      "outputs": [
        {
          "output_type": "execute_result",
          "data": {
            "text/html": [
              "<div>\n",
              "<style scoped>\n",
              "    .dataframe tbody tr th:only-of-type {\n",
              "        vertical-align: middle;\n",
              "    }\n",
              "\n",
              "    .dataframe tbody tr th {\n",
              "        vertical-align: top;\n",
              "    }\n",
              "\n",
              "    .dataframe thead th {\n",
              "        text-align: right;\n",
              "    }\n",
              "</style>\n",
              "<table border=\"1\" class=\"dataframe\">\n",
              "  <thead>\n",
              "    <tr style=\"text-align: right;\">\n",
              "      <th></th>\n",
              "      <th>limite inferior</th>\n",
              "      <th>limite superior</th>\n",
              "      <th>ponto medio</th>\n",
              "      <th>freq</th>\n",
              "      <th>freqRel</th>\n",
              "    </tr>\n",
              "  </thead>\n",
              "  <tbody>\n",
              "    <tr>\n",
              "      <th>0</th>\n",
              "      <td>1.0</td>\n",
              "      <td>1.3</td>\n",
              "      <td>1.2</td>\n",
              "      <td>2235.0</td>\n",
              "      <td>0.203200</td>\n",
              "    </tr>\n",
              "    <tr>\n",
              "      <th>1</th>\n",
              "      <td>1.3</td>\n",
              "      <td>1.6</td>\n",
              "      <td>1.5</td>\n",
              "      <td>0.0</td>\n",
              "      <td>0.000000</td>\n",
              "    </tr>\n",
              "    <tr>\n",
              "      <th>2</th>\n",
              "      <td>1.6</td>\n",
              "      <td>1.9</td>\n",
              "      <td>1.8</td>\n",
              "      <td>0.0</td>\n",
              "      <td>0.000000</td>\n",
              "    </tr>\n",
              "    <tr>\n",
              "      <th>3</th>\n",
              "      <td>1.9</td>\n",
              "      <td>2.2</td>\n",
              "      <td>2.1</td>\n",
              "      <td>2165.0</td>\n",
              "      <td>0.196836</td>\n",
              "    </tr>\n",
              "    <tr>\n",
              "      <th>4</th>\n",
              "      <td>2.2</td>\n",
              "      <td>2.5</td>\n",
              "      <td>2.4</td>\n",
              "      <td>0.0</td>\n",
              "      <td>0.000000</td>\n",
              "    </tr>\n",
              "    <tr>\n",
              "      <th>5</th>\n",
              "      <td>2.5</td>\n",
              "      <td>2.8</td>\n",
              "      <td>2.7</td>\n",
              "      <td>0.0</td>\n",
              "      <td>0.000000</td>\n",
              "    </tr>\n",
              "    <tr>\n",
              "      <th>6</th>\n",
              "      <td>2.8</td>\n",
              "      <td>3.1</td>\n",
              "      <td>3.0</td>\n",
              "      <td>2239.0</td>\n",
              "      <td>0.203564</td>\n",
              "    </tr>\n",
              "    <tr>\n",
              "      <th>7</th>\n",
              "      <td>3.1</td>\n",
              "      <td>3.4</td>\n",
              "      <td>3.3</td>\n",
              "      <td>0.0</td>\n",
              "      <td>0.000000</td>\n",
              "    </tr>\n",
              "    <tr>\n",
              "      <th>8</th>\n",
              "      <td>3.4</td>\n",
              "      <td>3.7</td>\n",
              "      <td>3.6</td>\n",
              "      <td>0.0</td>\n",
              "      <td>0.000000</td>\n",
              "    </tr>\n",
              "    <tr>\n",
              "      <th>9</th>\n",
              "      <td>3.7</td>\n",
              "      <td>4.0</td>\n",
              "      <td>3.9</td>\n",
              "      <td>0.0</td>\n",
              "      <td>0.000000</td>\n",
              "    </tr>\n",
              "    <tr>\n",
              "      <th>10</th>\n",
              "      <td>4.0</td>\n",
              "      <td>4.3</td>\n",
              "      <td>4.2</td>\n",
              "      <td>2189.0</td>\n",
              "      <td>0.199018</td>\n",
              "    </tr>\n",
              "    <tr>\n",
              "      <th>11</th>\n",
              "      <td>4.3</td>\n",
              "      <td>4.6</td>\n",
              "      <td>4.5</td>\n",
              "      <td>0.0</td>\n",
              "      <td>0.000000</td>\n",
              "    </tr>\n",
              "    <tr>\n",
              "      <th>12</th>\n",
              "      <td>4.6</td>\n",
              "      <td>4.9</td>\n",
              "      <td>4.8</td>\n",
              "      <td>0.0</td>\n",
              "      <td>0.000000</td>\n",
              "    </tr>\n",
              "    <tr>\n",
              "      <th>13</th>\n",
              "      <td>4.9</td>\n",
              "      <td>5.2</td>\n",
              "      <td>5.1</td>\n",
              "      <td>2171.0</td>\n",
              "      <td>0.197382</td>\n",
              "    </tr>\n",
              "    <tr>\n",
              "      <th>14</th>\n",
              "      <td>5.2</td>\n",
              "      <td>5.5</td>\n",
              "      <td>5.4</td>\n",
              "      <td>0.0</td>\n",
              "      <td>0.000000</td>\n",
              "    </tr>\n",
              "  </tbody>\n",
              "</table>\n",
              "</div>"
            ],
            "text/plain": [
              "    limite inferior  limite superior  ponto medio    freq   freqRel\n",
              "0               1.0              1.3          1.2  2235.0  0.203200\n",
              "1               1.3              1.6          1.5     0.0  0.000000\n",
              "2               1.6              1.9          1.8     0.0  0.000000\n",
              "3               1.9              2.2          2.1  2165.0  0.196836\n",
              "4               2.2              2.5          2.4     0.0  0.000000\n",
              "5               2.5              2.8          2.7     0.0  0.000000\n",
              "6               2.8              3.1          3.0  2239.0  0.203564\n",
              "7               3.1              3.4          3.3     0.0  0.000000\n",
              "8               3.4              3.7          3.6     0.0  0.000000\n",
              "9               3.7              4.0          3.9     0.0  0.000000\n",
              "10              4.0              4.3          4.2  2189.0  0.199018\n",
              "11              4.3              4.6          4.5     0.0  0.000000\n",
              "12              4.6              4.9          4.8     0.0  0.000000\n",
              "13              4.9              5.2          5.1  2171.0  0.197382\n",
              "14              5.2              5.5          5.4     0.0  0.000000"
            ]
          },
          "metadata": {
            "tags": []
          },
          "execution_count": 416
        }
      ]
    },
    {
      "cell_type": "code",
      "metadata": {
        "colab": {
          "base_uri": "https://localhost:8080/",
          "height": 514
        },
        "id": "iKVW1a7pxNIn",
        "outputId": "1c6a435d-19f5-43b1-b04a-e83480f9865b"
      },
      "source": [
        "#Definindo frequência acumulada\n",
        "tabela2['freqAcum'] = tabela2['freq'].cumsum()\n",
        "tabela2"
      ],
      "execution_count": 417,
      "outputs": [
        {
          "output_type": "execute_result",
          "data": {
            "text/html": [
              "<div>\n",
              "<style scoped>\n",
              "    .dataframe tbody tr th:only-of-type {\n",
              "        vertical-align: middle;\n",
              "    }\n",
              "\n",
              "    .dataframe tbody tr th {\n",
              "        vertical-align: top;\n",
              "    }\n",
              "\n",
              "    .dataframe thead th {\n",
              "        text-align: right;\n",
              "    }\n",
              "</style>\n",
              "<table border=\"1\" class=\"dataframe\">\n",
              "  <thead>\n",
              "    <tr style=\"text-align: right;\">\n",
              "      <th></th>\n",
              "      <th>limite inferior</th>\n",
              "      <th>limite superior</th>\n",
              "      <th>ponto medio</th>\n",
              "      <th>freq</th>\n",
              "      <th>freqRel</th>\n",
              "      <th>freqAcum</th>\n",
              "    </tr>\n",
              "  </thead>\n",
              "  <tbody>\n",
              "    <tr>\n",
              "      <th>0</th>\n",
              "      <td>1.0</td>\n",
              "      <td>1.3</td>\n",
              "      <td>1.2</td>\n",
              "      <td>2235.0</td>\n",
              "      <td>0.203200</td>\n",
              "      <td>2235.0</td>\n",
              "    </tr>\n",
              "    <tr>\n",
              "      <th>1</th>\n",
              "      <td>1.3</td>\n",
              "      <td>1.6</td>\n",
              "      <td>1.5</td>\n",
              "      <td>0.0</td>\n",
              "      <td>0.000000</td>\n",
              "      <td>2235.0</td>\n",
              "    </tr>\n",
              "    <tr>\n",
              "      <th>2</th>\n",
              "      <td>1.6</td>\n",
              "      <td>1.9</td>\n",
              "      <td>1.8</td>\n",
              "      <td>0.0</td>\n",
              "      <td>0.000000</td>\n",
              "      <td>2235.0</td>\n",
              "    </tr>\n",
              "    <tr>\n",
              "      <th>3</th>\n",
              "      <td>1.9</td>\n",
              "      <td>2.2</td>\n",
              "      <td>2.1</td>\n",
              "      <td>2165.0</td>\n",
              "      <td>0.196836</td>\n",
              "      <td>4400.0</td>\n",
              "    </tr>\n",
              "    <tr>\n",
              "      <th>4</th>\n",
              "      <td>2.2</td>\n",
              "      <td>2.5</td>\n",
              "      <td>2.4</td>\n",
              "      <td>0.0</td>\n",
              "      <td>0.000000</td>\n",
              "      <td>4400.0</td>\n",
              "    </tr>\n",
              "    <tr>\n",
              "      <th>5</th>\n",
              "      <td>2.5</td>\n",
              "      <td>2.8</td>\n",
              "      <td>2.7</td>\n",
              "      <td>0.0</td>\n",
              "      <td>0.000000</td>\n",
              "      <td>4400.0</td>\n",
              "    </tr>\n",
              "    <tr>\n",
              "      <th>6</th>\n",
              "      <td>2.8</td>\n",
              "      <td>3.1</td>\n",
              "      <td>3.0</td>\n",
              "      <td>2239.0</td>\n",
              "      <td>0.203564</td>\n",
              "      <td>6639.0</td>\n",
              "    </tr>\n",
              "    <tr>\n",
              "      <th>7</th>\n",
              "      <td>3.1</td>\n",
              "      <td>3.4</td>\n",
              "      <td>3.3</td>\n",
              "      <td>0.0</td>\n",
              "      <td>0.000000</td>\n",
              "      <td>6639.0</td>\n",
              "    </tr>\n",
              "    <tr>\n",
              "      <th>8</th>\n",
              "      <td>3.4</td>\n",
              "      <td>3.7</td>\n",
              "      <td>3.6</td>\n",
              "      <td>0.0</td>\n",
              "      <td>0.000000</td>\n",
              "      <td>6639.0</td>\n",
              "    </tr>\n",
              "    <tr>\n",
              "      <th>9</th>\n",
              "      <td>3.7</td>\n",
              "      <td>4.0</td>\n",
              "      <td>3.9</td>\n",
              "      <td>0.0</td>\n",
              "      <td>0.000000</td>\n",
              "      <td>6639.0</td>\n",
              "    </tr>\n",
              "    <tr>\n",
              "      <th>10</th>\n",
              "      <td>4.0</td>\n",
              "      <td>4.3</td>\n",
              "      <td>4.2</td>\n",
              "      <td>2189.0</td>\n",
              "      <td>0.199018</td>\n",
              "      <td>8828.0</td>\n",
              "    </tr>\n",
              "    <tr>\n",
              "      <th>11</th>\n",
              "      <td>4.3</td>\n",
              "      <td>4.6</td>\n",
              "      <td>4.5</td>\n",
              "      <td>0.0</td>\n",
              "      <td>0.000000</td>\n",
              "      <td>8828.0</td>\n",
              "    </tr>\n",
              "    <tr>\n",
              "      <th>12</th>\n",
              "      <td>4.6</td>\n",
              "      <td>4.9</td>\n",
              "      <td>4.8</td>\n",
              "      <td>0.0</td>\n",
              "      <td>0.000000</td>\n",
              "      <td>8828.0</td>\n",
              "    </tr>\n",
              "    <tr>\n",
              "      <th>13</th>\n",
              "      <td>4.9</td>\n",
              "      <td>5.2</td>\n",
              "      <td>5.1</td>\n",
              "      <td>2171.0</td>\n",
              "      <td>0.197382</td>\n",
              "      <td>10999.0</td>\n",
              "    </tr>\n",
              "    <tr>\n",
              "      <th>14</th>\n",
              "      <td>5.2</td>\n",
              "      <td>5.5</td>\n",
              "      <td>5.4</td>\n",
              "      <td>0.0</td>\n",
              "      <td>0.000000</td>\n",
              "      <td>10999.0</td>\n",
              "    </tr>\n",
              "  </tbody>\n",
              "</table>\n",
              "</div>"
            ],
            "text/plain": [
              "    limite inferior  limite superior  ponto medio    freq   freqRel  freqAcum\n",
              "0               1.0              1.3          1.2  2235.0  0.203200    2235.0\n",
              "1               1.3              1.6          1.5     0.0  0.000000    2235.0\n",
              "2               1.6              1.9          1.8     0.0  0.000000    2235.0\n",
              "3               1.9              2.2          2.1  2165.0  0.196836    4400.0\n",
              "4               2.2              2.5          2.4     0.0  0.000000    4400.0\n",
              "5               2.5              2.8          2.7     0.0  0.000000    4400.0\n",
              "6               2.8              3.1          3.0  2239.0  0.203564    6639.0\n",
              "7               3.1              3.4          3.3     0.0  0.000000    6639.0\n",
              "8               3.4              3.7          3.6     0.0  0.000000    6639.0\n",
              "9               3.7              4.0          3.9     0.0  0.000000    6639.0\n",
              "10              4.0              4.3          4.2  2189.0  0.199018    8828.0\n",
              "11              4.3              4.6          4.5     0.0  0.000000    8828.0\n",
              "12              4.6              4.9          4.8     0.0  0.000000    8828.0\n",
              "13              4.9              5.2          5.1  2171.0  0.197382   10999.0\n",
              "14              5.2              5.5          5.4     0.0  0.000000   10999.0"
            ]
          },
          "metadata": {
            "tags": []
          },
          "execution_count": 417
        }
      ]
    },
    {
      "cell_type": "code",
      "metadata": {
        "colab": {
          "base_uri": "https://localhost:8080/",
          "height": 514
        },
        "id": "BftYimmdxVMI",
        "outputId": "e53d37b4-9463-434d-c245-1ded840799af"
      },
      "source": [
        "#Divisão entre frequência acumulada e a soma das frequências para gerar a frequência relativa acumulada\n",
        "tabela2['freqRelAcum'] = tabela2['freqAcum']/tabela2['freq'].sum()\n",
        "tabela2"
      ],
      "execution_count": 418,
      "outputs": [
        {
          "output_type": "execute_result",
          "data": {
            "text/html": [
              "<div>\n",
              "<style scoped>\n",
              "    .dataframe tbody tr th:only-of-type {\n",
              "        vertical-align: middle;\n",
              "    }\n",
              "\n",
              "    .dataframe tbody tr th {\n",
              "        vertical-align: top;\n",
              "    }\n",
              "\n",
              "    .dataframe thead th {\n",
              "        text-align: right;\n",
              "    }\n",
              "</style>\n",
              "<table border=\"1\" class=\"dataframe\">\n",
              "  <thead>\n",
              "    <tr style=\"text-align: right;\">\n",
              "      <th></th>\n",
              "      <th>limite inferior</th>\n",
              "      <th>limite superior</th>\n",
              "      <th>ponto medio</th>\n",
              "      <th>freq</th>\n",
              "      <th>freqRel</th>\n",
              "      <th>freqAcum</th>\n",
              "      <th>freqRelAcum</th>\n",
              "    </tr>\n",
              "  </thead>\n",
              "  <tbody>\n",
              "    <tr>\n",
              "      <th>0</th>\n",
              "      <td>1.0</td>\n",
              "      <td>1.3</td>\n",
              "      <td>1.2</td>\n",
              "      <td>2235.0</td>\n",
              "      <td>0.203200</td>\n",
              "      <td>2235.0</td>\n",
              "      <td>0.203200</td>\n",
              "    </tr>\n",
              "    <tr>\n",
              "      <th>1</th>\n",
              "      <td>1.3</td>\n",
              "      <td>1.6</td>\n",
              "      <td>1.5</td>\n",
              "      <td>0.0</td>\n",
              "      <td>0.000000</td>\n",
              "      <td>2235.0</td>\n",
              "      <td>0.203200</td>\n",
              "    </tr>\n",
              "    <tr>\n",
              "      <th>2</th>\n",
              "      <td>1.6</td>\n",
              "      <td>1.9</td>\n",
              "      <td>1.8</td>\n",
              "      <td>0.0</td>\n",
              "      <td>0.000000</td>\n",
              "      <td>2235.0</td>\n",
              "      <td>0.203200</td>\n",
              "    </tr>\n",
              "    <tr>\n",
              "      <th>3</th>\n",
              "      <td>1.9</td>\n",
              "      <td>2.2</td>\n",
              "      <td>2.1</td>\n",
              "      <td>2165.0</td>\n",
              "      <td>0.196836</td>\n",
              "      <td>4400.0</td>\n",
              "      <td>0.400036</td>\n",
              "    </tr>\n",
              "    <tr>\n",
              "      <th>4</th>\n",
              "      <td>2.2</td>\n",
              "      <td>2.5</td>\n",
              "      <td>2.4</td>\n",
              "      <td>0.0</td>\n",
              "      <td>0.000000</td>\n",
              "      <td>4400.0</td>\n",
              "      <td>0.400036</td>\n",
              "    </tr>\n",
              "    <tr>\n",
              "      <th>5</th>\n",
              "      <td>2.5</td>\n",
              "      <td>2.8</td>\n",
              "      <td>2.7</td>\n",
              "      <td>0.0</td>\n",
              "      <td>0.000000</td>\n",
              "      <td>4400.0</td>\n",
              "      <td>0.400036</td>\n",
              "    </tr>\n",
              "    <tr>\n",
              "      <th>6</th>\n",
              "      <td>2.8</td>\n",
              "      <td>3.1</td>\n",
              "      <td>3.0</td>\n",
              "      <td>2239.0</td>\n",
              "      <td>0.203564</td>\n",
              "      <td>6639.0</td>\n",
              "      <td>0.603600</td>\n",
              "    </tr>\n",
              "    <tr>\n",
              "      <th>7</th>\n",
              "      <td>3.1</td>\n",
              "      <td>3.4</td>\n",
              "      <td>3.3</td>\n",
              "      <td>0.0</td>\n",
              "      <td>0.000000</td>\n",
              "      <td>6639.0</td>\n",
              "      <td>0.603600</td>\n",
              "    </tr>\n",
              "    <tr>\n",
              "      <th>8</th>\n",
              "      <td>3.4</td>\n",
              "      <td>3.7</td>\n",
              "      <td>3.6</td>\n",
              "      <td>0.0</td>\n",
              "      <td>0.000000</td>\n",
              "      <td>6639.0</td>\n",
              "      <td>0.603600</td>\n",
              "    </tr>\n",
              "    <tr>\n",
              "      <th>9</th>\n",
              "      <td>3.7</td>\n",
              "      <td>4.0</td>\n",
              "      <td>3.9</td>\n",
              "      <td>0.0</td>\n",
              "      <td>0.000000</td>\n",
              "      <td>6639.0</td>\n",
              "      <td>0.603600</td>\n",
              "    </tr>\n",
              "    <tr>\n",
              "      <th>10</th>\n",
              "      <td>4.0</td>\n",
              "      <td>4.3</td>\n",
              "      <td>4.2</td>\n",
              "      <td>2189.0</td>\n",
              "      <td>0.199018</td>\n",
              "      <td>8828.0</td>\n",
              "      <td>0.802618</td>\n",
              "    </tr>\n",
              "    <tr>\n",
              "      <th>11</th>\n",
              "      <td>4.3</td>\n",
              "      <td>4.6</td>\n",
              "      <td>4.5</td>\n",
              "      <td>0.0</td>\n",
              "      <td>0.000000</td>\n",
              "      <td>8828.0</td>\n",
              "      <td>0.802618</td>\n",
              "    </tr>\n",
              "    <tr>\n",
              "      <th>12</th>\n",
              "      <td>4.6</td>\n",
              "      <td>4.9</td>\n",
              "      <td>4.8</td>\n",
              "      <td>0.0</td>\n",
              "      <td>0.000000</td>\n",
              "      <td>8828.0</td>\n",
              "      <td>0.802618</td>\n",
              "    </tr>\n",
              "    <tr>\n",
              "      <th>13</th>\n",
              "      <td>4.9</td>\n",
              "      <td>5.2</td>\n",
              "      <td>5.1</td>\n",
              "      <td>2171.0</td>\n",
              "      <td>0.197382</td>\n",
              "      <td>10999.0</td>\n",
              "      <td>1.000000</td>\n",
              "    </tr>\n",
              "    <tr>\n",
              "      <th>14</th>\n",
              "      <td>5.2</td>\n",
              "      <td>5.5</td>\n",
              "      <td>5.4</td>\n",
              "      <td>0.0</td>\n",
              "      <td>0.000000</td>\n",
              "      <td>10999.0</td>\n",
              "      <td>1.000000</td>\n",
              "    </tr>\n",
              "  </tbody>\n",
              "</table>\n",
              "</div>"
            ],
            "text/plain": [
              "    limite inferior  limite superior  ...  freqAcum  freqRelAcum\n",
              "0               1.0              1.3  ...    2235.0     0.203200\n",
              "1               1.3              1.6  ...    2235.0     0.203200\n",
              "2               1.6              1.9  ...    2235.0     0.203200\n",
              "3               1.9              2.2  ...    4400.0     0.400036\n",
              "4               2.2              2.5  ...    4400.0     0.400036\n",
              "5               2.5              2.8  ...    4400.0     0.400036\n",
              "6               2.8              3.1  ...    6639.0     0.603600\n",
              "7               3.1              3.4  ...    6639.0     0.603600\n",
              "8               3.4              3.7  ...    6639.0     0.603600\n",
              "9               3.7              4.0  ...    6639.0     0.603600\n",
              "10              4.0              4.3  ...    8828.0     0.802618\n",
              "11              4.3              4.6  ...    8828.0     0.802618\n",
              "12              4.6              4.9  ...    8828.0     0.802618\n",
              "13              4.9              5.2  ...   10999.0     1.000000\n",
              "14              5.2              5.5  ...   10999.0     1.000000\n",
              "\n",
              "[15 rows x 7 columns]"
            ]
          },
          "metadata": {
            "tags": []
          },
          "execution_count": 418
        }
      ]
    },
    {
      "cell_type": "code",
      "metadata": {
        "id": "VFLpgTbd26jX"
      },
      "source": [
        "#Definindo os pontos médios para gerar o gráfico\n",
        "pontoMedio = np.array(tabela2['ponto medio'])\n",
        "pontoMedio = np.insert(pontoMedio, [0, n], [Min-d*0.5, Min+d*(n+0.5)])"
      ],
      "execution_count": 419,
      "outputs": []
    },
    {
      "cell_type": "code",
      "metadata": {
        "colab": {
          "base_uri": "https://localhost:8080/",
          "height": 483
        },
        "id": "3uESmRzs2-b8",
        "outputId": "a36c1a7e-06b1-461c-eafe-ecfc88daba93"
      },
      "source": [
        "#Gerando o gráfico: Ogiva das variáveis\n",
        "freqAcumulada = np.array(tabela2['freqRelAcum'])\n",
        "freqAcumulada = np.insert(freqAcumulada, [0, n], [0., 1.])\n",
        "\n",
        "plt.figure(figsize=(8,8))\n",
        "plt.plot(pontoMedio, freqAcumulada, color='green', marker='x')\n",
        "plt.grid()"
      ],
      "execution_count": 420,
      "outputs": [
        {
          "output_type": "display_data",
          "data": {
            "image/png": "[encoded data removed]",
            "text/plain": [
              "<Figure size 576x576 with 1 Axes>"
            ]
          },
          "metadata": {
            "tags": [],
            "needs_background": "light"
          }
        }
      ]
    },
    {
      "cell_type": "markdown",
      "metadata": {
        "id": "OIcc_2vDty4Z"
      },
      "source": [
        "# 3. Estime a moda, mediana e quartis, média e o desvio padrão dos dados usando tanto os valores disponíveis no arquivo, quanto os valores da tabela de frequências"
      ]
    },
    {
      "cell_type": "markdown",
      "metadata": {
        "id": "9SKJO4DWucgl"
      },
      "source": [
        "# Valor disponível no arquivo: Coluna dos Custos dos produtos"
      ]
    },
    {
      "cell_type": "code",
      "metadata": {
        "colab": {
          "base_uri": "https://localhost:8080/"
        },
        "id": "D3LHrGWAdc4W",
        "outputId": "0c7572c1-0ccb-41e4-db84-c0102ffcbaba"
      },
      "source": [
        "#Atribuindo na variável valor_produtos a coluna 'Cost_of_the_Product' e transformando ela em um numpy array\n",
        "valor_produtos = np.array(df['Cost_of_the_Product'])\n",
        "valor_produtos"
      ],
      "execution_count": 421,
      "outputs": [
        {
          "output_type": "execute_result",
          "data": {
            "text/plain": [
              "array([177, 216, 183, ..., 242, 223, 155])"
            ]
          },
          "metadata": {
            "tags": []
          },
          "execution_count": 421
        }
      ]
    },
    {
      "cell_type": "code",
      "metadata": {
        "colab": {
          "base_uri": "https://localhost:8080/"
        },
        "id": "m8VNoL3FfI7N",
        "outputId": "ea51ed7a-3087-4cad-9aea-07795e0965b2"
      },
      "source": [
        "#Valor da moda\n",
        "x = stats.mode(valor_produtos)\n",
        "print('Moda:', x[0][0])"
      ],
      "execution_count": 422,
      "outputs": [
        {
          "output_type": "stream",
          "text": [
            "Moda: 245\n"
          ],
          "name": "stdout"
        }
      ]
    },
    {
      "cell_type": "code",
      "metadata": {
        "colab": {
          "base_uri": "https://localhost:8080/"
        },
        "id": "5sUxT8KNduiG",
        "outputId": "26f3cd78-4a92-40bf-8f49-589bb3970670"
      },
      "source": [
        "#Aqui descobrimos a posição da mediana e o valor da mediana\n",
        "[posMed, med] = mediana(valor_produtos)\n",
        "print(f'posição da mediana = {posMed}\\tvalor da mediana = {med}')"
      ],
      "execution_count": 423,
      "outputs": [
        {
          "output_type": "stream",
          "text": [
            "posição da mediana = 5500.0\tvalor da mediana = 214\n"
          ],
          "name": "stdout"
        }
      ]
    },
    {
      "cell_type": "code",
      "metadata": {
        "colab": {
          "base_uri": "https://localhost:8080/"
        },
        "id": "qI1z0IRKeBXF",
        "outputId": "718b99f5-b113-4000-a972-10120f5e564d"
      },
      "source": [
        "#Transformando todos os valores do vetor em inteiro, caso tenha algum valor float\n",
        "valor_produtos[:int(posMed)]"
      ],
      "execution_count": 424,
      "outputs": [
        {
          "output_type": "execute_result",
          "data": {
            "text/plain": [
              "array([ 96,  96,  96, ..., 214, 214, 214])"
            ]
          },
          "metadata": {
            "tags": []
          },
          "execution_count": 424
        }
      ]
    },
    {
      "cell_type": "code",
      "metadata": {
        "colab": {
          "base_uri": "https://localhost:8080/"
        },
        "id": "DaCMdXq5eHUp",
        "outputId": "4ba6481b-b78e-45ac-d391-47cabb56a777"
      },
      "source": [
        "#Descobrindo a posição do 1º quartil e o valor do 1º quartil\n",
        "[posQ1, q1] = mediana(valor_produtos[:int(posMed)])\n",
        "print(f'posição do 1º quartil = {posQ1}\\tvalor do 1º quartil = {q1}')"
      ],
      "execution_count": 425,
      "outputs": [
        {
          "output_type": "stream",
          "text": [
            "posição do 1º quartil = 2750.5\tvalor do 1º quartil = 169.5\n"
          ],
          "name": "stdout"
        }
      ]
    },
    {
      "cell_type": "code",
      "metadata": {
        "colab": {
          "base_uri": "https://localhost:8080/"
        },
        "id": "YzlbY5NUePCy",
        "outputId": "82f996f0-9281-452b-ce1b-cd7758a8a0fa"
      },
      "source": [
        "#Descobrindo a posição do 3º quartil e o valor do 3º quartil\n",
        "[posQ3, q3] = mediana(valor_produtos[int(posMed):])\n",
        "print(f'posição do 3º quartil = {posQ3}\\tvalor do 3º quartil = {q3}')"
      ],
      "execution_count": 426,
      "outputs": [
        {
          "output_type": "stream",
          "text": [
            "posição do 3º quartil = 2750.0\tvalor do 3º quartil = 251\n"
          ],
          "name": "stdout"
        }
      ]
    },
    {
      "cell_type": "code",
      "metadata": {
        "colab": {
          "base_uri": "https://localhost:8080/"
        },
        "id": "CZgv_bpDeMHc",
        "outputId": "65ecb262-bbba-4d31-b25b-6b2af19f9ee4"
      },
      "source": [
        "#Descobrindo o intervalo interquartil, valor mínimo e o valor máximo\n",
        "iQ = q3 - q1 #Intervalo Interquartil é igual a subtração do 3º quartil e o 1º quartil\n",
        "vMin = q1 - 1.5*iQ #O Valor mínimo próvem da subtração entre o 1º quartil com a multiplicação entre o Intervalo Interquartil e 1.5\n",
        "vMax = q3 + 1.5*iQ #O Valor máximo próvem da soma entre o 3º quartil com a multiplicação entre o Intervalo Interquartil e 1.5\n",
        "\n",
        "print(f'intervalo interquartil = {iQ}\\tvalor mínimo = {vMin}\\tvalor máximo = {vMax}')"
      ],
      "execution_count": 427,
      "outputs": [
        {
          "output_type": "stream",
          "text": [
            "intervalo interquartil = 81.5\tvalor mínimo = 47.25\tvalor máximo = 373.25\n"
          ],
          "name": "stdout"
        }
      ]
    },
    {
      "cell_type": "code",
      "metadata": {
        "colab": {
          "base_uri": "https://localhost:8080/"
        },
        "id": "z2GVCNjjg2NY",
        "outputId": "91d21958-0d52-4e0f-f8c3-b0063469b7df"
      },
      "source": [
        "#Descobrindo a média utilizando a biblioteca median do numpy\n",
        "media = np.median(valor_produtos)\n",
        "print('media:',media)"
      ],
      "execution_count": 428,
      "outputs": [
        {
          "output_type": "stream",
          "text": [
            "media: 214.0\n"
          ],
          "name": "stdout"
        }
      ]
    },
    {
      "cell_type": "code",
      "metadata": {
        "colab": {
          "base_uri": "https://localhost:8080/"
        },
        "id": "RyLWUj5Qhdpc",
        "outputId": "e4c9f4e6-5919-4f3d-945a-b12fab272482"
      },
      "source": [
        "#Desvio Padrão dos Dados utilizando a biblioteca de estatística\n",
        "y = stdev(valor_produtos)\n",
        "print('Desvio padrao de dados: {:.3f}'.format(y))"
      ],
      "execution_count": 429,
      "outputs": [
        {
          "output_type": "stream",
          "text": [
            "Desvio padrao de dados: 48.062\n"
          ],
          "name": "stdout"
        }
      ]
    },
    {
      "cell_type": "markdown",
      "metadata": {
        "id": "EH8OUrA3urMi"
      },
      "source": [
        "---------------------------------------------------"
      ]
    },
    {
      "cell_type": "markdown",
      "metadata": {
        "id": "S2zWeo6C5JiN"
      },
      "source": [
        "# Valor da tabela de frequência númerica ('freq')"
      ]
    },
    {
      "cell_type": "code",
      "metadata": {
        "colab": {
          "base_uri": "https://localhost:8080/"
        },
        "id": "gUGfoyZB5zMK",
        "outputId": "fb1871eb-7765-43a5-8ab1-c571e87452df"
      },
      "source": [
        "#Atribuindo na variável a coluna da frequência de valor numérico e transformando ela em um numpy array\n",
        "frequencia_tabela2 = np.array(tabela2['freq'])\n",
        "frequencia_tabela2"
      ],
      "execution_count": 430,
      "outputs": [
        {
          "output_type": "execute_result",
          "data": {
            "text/plain": [
              "array([2235.,    0.,    0., 2165.,    0.,    0., 2239.,    0.,    0.,\n",
              "          0., 2189.,    0.,    0., 2171.,    0.])"
            ]
          },
          "metadata": {
            "tags": []
          },
          "execution_count": 430
        }
      ]
    },
    {
      "cell_type": "code",
      "metadata": {
        "colab": {
          "base_uri": "https://localhost:8080/"
        },
        "id": "NJJGWhnf5zuk",
        "outputId": "b021db06-3f84-4f2a-9edd-b026938af510"
      },
      "source": [
        "#Valor da moda\n",
        "moda2 = stats.mode(frequencia_tabela2)\n",
        "print('Moda:', moda2[0][0])"
      ],
      "execution_count": 431,
      "outputs": [
        {
          "output_type": "stream",
          "text": [
            "Moda: 0.0\n"
          ],
          "name": "stdout"
        }
      ]
    },
    {
      "cell_type": "code",
      "metadata": {
        "colab": {
          "base_uri": "https://localhost:8080/"
        },
        "id": "zsdH-vVU51bp",
        "outputId": "443d0b39-9deb-49ad-b952-aaea0bf2e510"
      },
      "source": [
        "#Aqui descobrimos a posição da mediana e o valor da mediana\n",
        "[posMed_tabela2, med_tabela2] = mediana(frequencia_tabela2)\n",
        "print(f'posição da mediana = {posMed_tabela2}\\tvalor da mediana = {med_tabela2}')"
      ],
      "execution_count": 432,
      "outputs": [
        {
          "output_type": "stream",
          "text": [
            "posição da mediana = 8.0\tvalor da mediana = 0.0\n"
          ],
          "name": "stdout"
        }
      ]
    },
    {
      "cell_type": "code",
      "metadata": {
        "colab": {
          "base_uri": "https://localhost:8080/"
        },
        "id": "CvNR5Xua529v",
        "outputId": "9a72112e-1b2a-44b2-f106-5deaa9b333e9"
      },
      "source": [
        "#Transformando todos os valores do vetor em inteiro, caso tenha algum valor float\n",
        "frequencia_tabela2[:int(posMed_tabela2)]"
      ],
      "execution_count": 433,
      "outputs": [
        {
          "output_type": "execute_result",
          "data": {
            "text/plain": [
              "array([0., 0., 0., 0., 0., 0., 0., 0.])"
            ]
          },
          "metadata": {
            "tags": []
          },
          "execution_count": 433
        }
      ]
    },
    {
      "cell_type": "code",
      "metadata": {
        "colab": {
          "base_uri": "https://localhost:8080/"
        },
        "id": "RY1lX1u254S1",
        "outputId": "cd1687d1-3453-4180-89f3-6c7044c43d0f"
      },
      "source": [
        "#Descobrindo a posição do 1º quartil e o valor do 1º quartil\n",
        "[posQ1_tabela2, q1_tabela2] = mediana(frequencia_tabela2[:int(posMed_tabela2)])\n",
        "print(f'posição do 1º quartil = {posQ1_tabela2}\\tvalor do 1º quartil = {q1_tabela2}')"
      ],
      "execution_count": 434,
      "outputs": [
        {
          "output_type": "stream",
          "text": [
            "posição do 1º quartil = 4.5\tvalor do 1º quartil = 0.0\n"
          ],
          "name": "stdout"
        }
      ]
    },
    {
      "cell_type": "code",
      "metadata": {
        "colab": {
          "base_uri": "https://localhost:8080/"
        },
        "id": "dfi4SfD758pF",
        "outputId": "39cd618f-a01a-4b83-a02f-558ee95d4085"
      },
      "source": [
        "#Descobrindo a posição do 3º quartil e o valor do 3º quartil\n",
        "[posQ3_tabela2, q3_tabela2] = mediana(frequencia_tabela2[int(posMed_tabela2):])\n",
        "print(f'posição do 3º quartil = {posQ3_tabela2}\\tvalor do 3º quartil = {q3_tabela2}')"
      ],
      "execution_count": 435,
      "outputs": [
        {
          "output_type": "stream",
          "text": [
            "posição do 3º quartil = 4.0\tvalor do 3º quartil = 2189.0\n"
          ],
          "name": "stdout"
        }
      ]
    },
    {
      "cell_type": "code",
      "metadata": {
        "colab": {
          "base_uri": "https://localhost:8080/"
        },
        "id": "HmpiuQV95-w8",
        "outputId": "f73609ba-142c-4c0e-dbec-04db7835b839"
      },
      "source": [
        "#Descobrindo o intervalo interquartil, valor mínimo e o valor máximo\n",
        "iQ_tabela2 = q3_tabela2 - q1_tabela2 #Intervalo Interquartil é igual a subtração do 3º quartil e o 1º quartil\n",
        "vMin_tabela2 = q1_tabela2 - 1.5*iQ_tabela2 #O Valor mínimo próvem da subtração entre o 1º quartil com a multiplicação entre o Intervalo Interquartil e 1.5\n",
        "vMax_tabela2 = q3_tabela2 + 1.5*iQ_tabela2 #O Valor máximo próvem da soma entre o 3º quartil com a multiplicação entre o Intervalo Interquartil e 1.5\n",
        "\n",
        "print(f'intervalo interquartil = {iQ_tabela2}\\tvalor mínimo = {vMin_tabela2}\\tvalor máximo = {vMax_tabela2}')"
      ],
      "execution_count": 436,
      "outputs": [
        {
          "output_type": "stream",
          "text": [
            "intervalo interquartil = 2189.0\tvalor mínimo = -3283.5\tvalor máximo = 5472.5\n"
          ],
          "name": "stdout"
        }
      ]
    },
    {
      "cell_type": "code",
      "metadata": {
        "colab": {
          "base_uri": "https://localhost:8080/"
        },
        "id": "iVw7cEXC5_6s",
        "outputId": "a90f451b-dac1-448c-8360-38ca71118466"
      },
      "source": [
        "#Fazendo a media\n",
        "media_tabela2 = 0\n",
        "for x in frequencia_tabela2:\n",
        "  media_tabela2 += x\n",
        "\n",
        "media_tabela2 /= len(frequencia_tabela2)\n",
        "print('media: {:.3f}'.format(media_tabela2))"
      ],
      "execution_count": 437,
      "outputs": [
        {
          "output_type": "stream",
          "text": [
            "media: 733.267\n"
          ],
          "name": "stdout"
        }
      ]
    },
    {
      "cell_type": "code",
      "metadata": {
        "colab": {
          "base_uri": "https://localhost:8080/"
        },
        "id": "3VG2NBkO6Bpj",
        "outputId": "cc7952d0-2b41-494f-9823-7e5c5e68dc49"
      },
      "source": [
        "#Desvio Padrão dos Dados utilizando a biblioteca de estatística\n",
        "y_tabela2 = stdev(frequencia_tabela2)\n",
        "print('Desvio padrao de dados: {:.3f}'.format(y_tabela2))"
      ],
      "execution_count": 438,
      "outputs": [
        {
          "output_type": "stream",
          "text": [
            "Desvio padrao de dados: 1073.557\n"
          ],
          "name": "stdout"
        }
      ]
    },
    {
      "cell_type": "markdown",
      "metadata": {
        "id": "OLEiOmto5iwh"
      },
      "source": [
        "---------------------------------------------------"
      ]
    },
    {
      "cell_type": "markdown",
      "metadata": {
        "id": "seoyT2JxE7mm"
      },
      "source": [
        "# 4. No caso dos dados numéricos, estime a probabilidade de ocorrências entre dois valores quaisquer através da tabela de frequências"
      ]
    },
    {
      "cell_type": "code",
      "metadata": {
        "colab": {
          "base_uri": "https://localhost:8080/"
        },
        "id": "UsK-TRbSFD_n",
        "outputId": "927cffdf-64cf-4ebf-caf9-50913b56e015"
      },
      "source": [
        "#Probabiliade entre os valores de index 0 e 3\n",
        "probabilidadeEntre2Valores = (tabela2['freqAcum'][0] + (((tabela2['freqAcum'][3] - tabela2['freqAcum'][0]) * (4 - tabela2['ponto medio'][0])) / (tabela2['ponto medio'][3] - tabela2['ponto medio'][0]))) / tabela2['freqAcum'][14]\n",
        "Percentual = 1 - probabilidadeEntre2Valores\n",
        "Percentual *= 100 \n",
        "print('Total de pessoas que deram a nota 4, dentro deste periodo: {:.1f}%'.format(Percentual))"
      ],
      "execution_count": 439,
      "outputs": [
        {
          "output_type": "stream",
          "text": [
            "Total de pessoas que deram a nota 4, dentro deste periodo: 18.4%\n"
          ],
          "name": "stdout"
        }
      ]
    },
    {
      "cell_type": "markdown",
      "metadata": {
        "id": "VuSaGeihFDFn"
      },
      "source": [
        "---------------------------------------------------\n"
      ]
    },
    {
      "cell_type": "markdown",
      "metadata": {
        "id": "e9aa_oUDD_i2"
      },
      "source": [
        "# 5. Estime e mostre os valores para o box-plot indicando os outliers, caso existam, anto os valores disponíveis no arquivo, quanto os valores da tabela de frequências."
      ]
    },
    {
      "cell_type": "markdown",
      "metadata": {
        "id": "mXVRneQ-BxAl"
      },
      "source": [
        "# Box-Plot para Valor disponível no arquivo (Custos dos produtos)"
      ]
    },
    {
      "cell_type": "code",
      "metadata": {
        "colab": {
          "base_uri": "https://localhost:8080/",
          "height": 320
        },
        "id": "qduJHoGXlsfm",
        "outputId": "5a51621a-d5c8-419c-a6a4-c2a105420364"
      },
      "source": [
        "#BoxPlot para Valores dos produtos\n",
        "\n",
        "\n",
        "boxPlotV1 = np.array([round(vMin,1), q1, med, q3, round(vMax,1)]) #transformando em array numpy os valores: o valor mínimo da tabela, 1 quartil, mediana, 3 quartil e valor máximo da tabela\n",
        "boxPlotV1[0] = 0 #Inicializando o vetor de index 0 como 0\n",
        "\n",
        "[xMin, xMax] = MinMax(boxPlotV1[0], boxPlotV1[4]) #Atribuindo dentro das variaveis de um array o mínimo e máximo para o box-plot\n",
        "plt.subplots(figsize=(15,5)) #Atribuindo tamanho da figura\n",
        "plt.boxplot(boxPlotV1, vert=False)\n",
        "plt.xticks(range(xMin, xMax, 10)) #O ponto que queremos descobrir para o box-plot\n",
        "plt.grid()\n",
        "plt.show()"
      ],
      "execution_count": 440,
      "outputs": [
        {
          "output_type": "display_data",
          "data": {
            "image/png": "[encoded data removed]",
            "text/plain": [
              "<Figure size 1080x360 with 1 Axes>"
            ]
          },
          "metadata": {
            "tags": [],
            "needs_background": "light"
          }
        }
      ]
    },
    {
      "cell_type": "markdown",
      "metadata": {
        "id": "Hq8DNOjCdST7"
      },
      "source": [
        "---------------------------------------------------"
      ]
    },
    {
      "cell_type": "markdown",
      "metadata": {
        "id": "As_qjAnICFkU"
      },
      "source": [
        "# Box-Plot para Tabela de Frequência tipo numérica"
      ]
    },
    {
      "cell_type": "code",
      "metadata": {
        "colab": {
          "base_uri": "https://localhost:8080/",
          "height": 1000
        },
        "id": "D1o8IaqACOyf",
        "outputId": "f3659bd3-90ee-4431-ee5f-a5387f10b860"
      },
      "source": [
        "#BoxPlot para Tabela de Frequência\n",
        "\n",
        "\n",
        "boxPlotV2 = np.array([round(vMin_tabela2,1), q1_tabela2, med_tabela2, q3_tabela2, round(vMax_tabela2,1)]) #transformando em array numpy os valores: o valor mínimo da tabela, 1 quartil, mediana, 3 quartil e valor máximo da tabela\n",
        "boxPlotV2[0] = 0 #Inicializando o vetor de index 0 como 0\n",
        "\n",
        "[xMin_tabela2, xMax_tabela2] = MinMax(boxPlotV2[0], boxPlotV2[4]) #Atribuindo dentro das variaveis de um array o mínimo e máximo para o box-plot\n",
        "plt.subplots(figsize=(10,20)) #Atribuindo tamanho da figura\n",
        "plt.boxplot(boxPlotV2, vert=False)\n",
        "plt.xticks(range(xMin_tabela2, xMax_tabela2, 10)) #O ponto que queremos descobrir para o box-plot\n",
        "plt.grid()\n",
        "plt.show()"
      ],
      "execution_count": 441,
      "outputs": [
        {
          "output_type": "display_data",
          "data": {
            "image/png": "[encoded data removed]",
            "text/plain": [
              "<Figure size 720x1440 with 1 Axes>"
            ]
          },
          "metadata": {
            "tags": [],
            "needs_background": "light"
          }
        }
      ]
    }
  ]
}